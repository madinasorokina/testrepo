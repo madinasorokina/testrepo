{
 "cells": [
  {
   "cell_type": "markdown",
   "id": "7b4fdaea-75eb-4c69-bbec-d24060d71469",
   "metadata": {
    "tags": []
   },
   "source": [
    "# DataScienceEcosystem"
   ]
  },
  {
   "cell_type": "markdown",
   "id": "7a386ece-414c-4a5a-a812-ba604c1ea181",
   "metadata": {
    "tags": []
   },
   "source": [
    "![2-title](C:/Users/madina.sorokina/Pictures/Screenshots/2-title.png)"
   ]
  },
  {
   "cell_type": "markdown",
   "id": "b3805659-20ce-430e-908d-f2215168c36d",
   "metadata": {},
   "source": [
    "## Author: __Madina Sorokina__"
   ]
  },
  {
   "cell_type": "markdown",
   "id": "9d5a9fd4-c17c-424f-841a-e7e03ad991b5",
   "metadata": {
    "tags": []
   },
   "source": [
    "![11-authordetails](C:/Users/madina.sorokina/Pictures/Screenshots/11-authordetails.png)"
   ]
  },
  {
   "cell_type": "markdown",
   "id": "f1c3fdd6-35a5-43a6-a624-5d0e5bf9b3a3",
   "metadata": {
    "tags": []
   },
   "source": [
    "## In this notebook, Data Science Tools and Ecosystem are summarized."
   ]
  },
  {
   "cell_type": "markdown",
   "id": "a9cd6b48-3fa1-4aef-827b-1d328c3c61b9",
   "metadata": {},
   "source": [
    "![3-intro](C:/Users/madina.sorokina/Pictures/Screenshots/3-intro.png)"
   ]
  },
  {
   "cell_type": "markdown",
   "id": "43923ae1-e0f3-4899-abfb-6e87e7b9f725",
   "metadata": {},
   "source": [
    "**Objectives:**\n",
    "###### - Data Science languages\n",
    "###### - Libraries used by Data Scientists\n",
    "###### - Data Science tools\n",
    "###### - examples of simple arithmetic expressions"
   ]
  },
  {
   "cell_type": "markdown",
   "id": "d85f330d-78c0-4070-ba65-c6b003674568",
   "metadata": {},
   "source": [
    "![10-objectives](C:/Users/madina.sorokina/Pictures/Screenshots/10-objectives.png)"
   ]
  },
  {
   "cell_type": "markdown",
   "id": "e358d478-7a28-468d-aedc-d414c823899b",
   "metadata": {},
   "source": [
    "### Some of the popular languages that Data Scientists use are:\n",
    "###### 1. Python\n",
    "###### 2. R\n",
    "###### 3. Julia"
   ]
  },
  {
   "cell_type": "markdown",
   "id": "bc0edd68-d907-4ea0-bb22-73b63163a31d",
   "metadata": {},
   "source": [
    "![4-dslanguages](C:/Users/madina.sorokina/Pictures/Screenshots/4-dslanguages.png)"
   ]
  },
  {
   "cell_type": "markdown",
   "id": "5ae3e68a-51bd-49f6-8863-bccc0315742d",
   "metadata": {},
   "source": [
    "### Some of the commonly used libraries used by Data Scientists include:\n",
    "###### 1. matplotlib\n",
    "###### 2. numpy\n",
    "###### 3. pandas"
   ]
  },
  {
   "cell_type": "markdown",
   "id": "6470c72e-f9de-4682-a905-d93df2b20413",
   "metadata": {},
   "source": [
    "![5-dslibraries](C:/Users/madina.sorokina/Pictures/Screenshots/5-dslibraries.png)"
   ]
  },
  {
   "cell_type": "markdown",
   "id": "5f6c0cd6-f366-4927-9e34-678c6da1d3d2",
   "metadata": {},
   "source": [
    "### A table of Data Science tools\n",
    "\n",
    "| Data Science Tools |\n",
    "| ------------------ |\n",
    "| Jupyter Notebook |\n",
    "| Python |\n",
    "| Anaconda |"
   ]
  },
  {
   "cell_type": "markdown",
   "id": "0def1e02-37bf-4b2a-b280-e9729177b932",
   "metadata": {},
   "source": [
    "![6-dstools](C:/Users/madina.sorokina/Pictures/Screenshots/6-dstools.png)"
   ]
  },
  {
   "cell_type": "markdown",
   "id": "d75895f1-5e02-4ea4-95db-46536f2bc5bb",
   "metadata": {},
   "source": [
    "### Below are a few examples of evaluating arithmetic expressions in Python."
   ]
  },
  {
   "cell_type": "markdown",
   "id": "72787f4d-55b2-4764-ba34-7119bf54840a",
   "metadata": {},
   "source": [
    "![7-introarithmetic](C:/Users/madina.sorokina/Pictures/Screenshots/7-introarithmetic.png)"
   ]
  },
  {
   "cell_type": "code",
   "execution_count": 3,
   "id": "dfb9436a-ee8d-4ae1-9513-9c65c4f21b78",
   "metadata": {
    "tags": []
   },
   "outputs": [
    {
     "name": "stdout",
     "output_type": "stream",
     "text": [
      "17\n"
     ]
    }
   ],
   "source": [
    "# This a simple arithmetic expression to mutiply then add integers\n",
    "x = 3\n",
    "y = 4\n",
    "z = (x*y)+5\n",
    "print(z)"
   ]
  },
  {
   "cell_type": "markdown",
   "id": "330b5d5a-8b55-493d-9ea2-cd9b96cfb042",
   "metadata": {},
   "source": [
    "![8-multiplyandaddintegers](C:/Users/madina.sorokina/Pictures/Screenshots/8-multiplyandaddintegers.png)"
   ]
  },
  {
   "cell_type": "code",
   "execution_count": 4,
   "id": "2fc0f19c-4da7-473e-8ecc-0ba0842de9c7",
   "metadata": {
    "tags": []
   },
   "outputs": [
    {
     "name": "stdout",
     "output_type": "stream",
     "text": [
      "3.3333333333333335\n"
     ]
    }
   ],
   "source": [
    "#This will convert 200 minutes to hours by diving by 60\n",
    "m = 200\n",
    "h = 60\n",
    "conv = m/h\n",
    "print(conv)"
   ]
  },
  {
   "cell_type": "markdown",
   "id": "eda9cfb1-05a5-4f4d-bb48-4bffe3f6c223",
   "metadata": {},
   "source": [
    "![9-hourstominutes](C:/Users/madina.sorokina/Pictures/Screenshots/9-hourstominutes.png)"
   ]
  }
 ],
 "metadata": {
  "kernelspec": {
   "display_name": "Python",
   "language": "python",
   "name": "conda-env-python-py"
  },
  "language_info": {
   "codemirror_mode": {
    "name": "ipython",
    "version": 3
   },
   "file_extension": ".py",
   "mimetype": "text/x-python",
   "name": "python",
   "nbconvert_exporter": "python",
   "pygments_lexer": "ipython3",
   "version": "3.7.12"
  }
 },
 "nbformat": 4,
 "nbformat_minor": 5
}
